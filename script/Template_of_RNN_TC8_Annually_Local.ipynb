{
  "nbformat": 4,
  "nbformat_minor": 0,
  "metadata": {
    "colab": {
      "provenance": [],
      "collapsed_sections": []
    },
    "kernelspec": {
      "name": "python3",
      "display_name": "Python 3"
    },
    "language_info": {
      "name": "python"
    }
  },
  "cells": [
    {
      "cell_type": "code",
      "execution_count": null,
      "metadata": {
        "id": "_-kL-Ar1SXre"
      },
      "outputs": [],
      "source": [
        "# lstm for time series forecasting\n",
        "from numpy import sqrt\n",
        "from numpy import asarray\n",
        "from pandas import read_csv\n",
        "from tensorflow.keras import Sequential\n",
        "from tensorflow.keras.layers import Dense\n",
        "from tensorflow.keras.layers import LSTM"
      ]
    },
    {
      "cell_type": "code",
      "source": [
        "# split a univariate sequence into samples\n",
        "def split_sequence(sequence, n_steps):\n",
        "\tX, y = list(), list()\n",
        "\tfor i in range(len(sequence)):\n",
        "\t\t# find the end of this pattern\n",
        "\t\tend_ix = i + n_steps\n",
        "\t\t# check if we are beyond the sequence\n",
        "\t\tif end_ix > len(sequence)-1:\n",
        "\t\t\tbreak\n",
        "\t\t# gather input and output parts of the pattern\n",
        "\t\tseq_x, seq_y = sequence[i:end_ix], sequence[end_ix]\n",
        "\t\tX.append(seq_x)\n",
        "\t\ty.append(seq_y)\n",
        "\treturn asarray(X), asarray(y)"
      ],
      "metadata": {
        "id": "L3ppcARFS2Ea"
      },
      "execution_count": null,
      "outputs": []
    },
    {
      "cell_type": "code",
      "source": [
        "# load the dataset\n",
        "path = 'https://raw.githubusercontent.com/snpsuen/Deep_Learning_JupyterLab/main/data/hko_tc8_1970-2022.csv'\n",
        "df = read_csv(path, header=0, index_col=0, squeeze=True)\n",
        "# retrieve the values\n",
        "values = df.values.astype('int32')\n",
        "# specify the window size\n",
        "n_steps = 4\n",
        "# split into samples\n",
        "X, y = split_sequence(values, n_steps)\n",
        "print(\"X = \", X)\n",
        "print(\"y = \", y)\n",
        "print(\"X.shape = %s, y.shape = %s\" %(X.shape, y.shape))\n",
        "# reshape into [samples, timesteps, features]\n",
        "X = X.reshape((X.shape[0], X.shape[1], 1))\n",
        "# split into train/test\n",
        "n_test = 10\n",
        "X_train, X_test, X_predict, y_train, y_test, y_predict = X[:-n_test], X[-n_test:-1], X[-1:], y[:-n_test], y[-n_test:-1], y[-1:]\n",
        "print(\"After reshape, X_train.shape = %s, X_test.shape = %s, X_predict.shape = %s, y_train.shape = %s, y_test.shape = %s, y_predict.shape = %s\" %(X_train.shape, X_test.shape, X_predict.shape, y_train.shape, y_test.shape, y_predict.shape))\n",
        "print(\"X_test = \", X_test)\n",
        "print(\"X_predict = \", X_predict)\n",
        "input_shape = X.shape[1:]\n",
        "print(\"input_shape = \", input_shape)"
      ],
      "metadata": {
        "colab": {
          "base_uri": "https://localhost:8080/"
        },
        "id": "qdzYOEuxTEps",
        "outputId": "e92ad4ab-eadd-4abd-edbf-6bc2c9e3faef"
      },
      "execution_count": null,
      "outputs": [
        {
          "output_type": "stream",
          "name": "stdout",
          "text": [
            "X =  [[2 3 1 1]\n",
            " [3 1 1 2]\n",
            " [1 1 2 1]\n",
            " [1 2 1 2]\n",
            " [2 1 2 1]\n",
            " [1 2 1 2]\n",
            " [2 1 2 2]\n",
            " [1 2 2 1]\n",
            " [2 2 1 1]\n",
            " [2 1 1 0]\n",
            " [1 1 0 2]\n",
            " [1 0 2 1]\n",
            " [0 2 1 2]\n",
            " [2 1 2 2]\n",
            " [1 2 2 0]\n",
            " [2 2 0 0]\n",
            " [2 0 0 2]\n",
            " [0 0 2 0]\n",
            " [0 2 0 1]\n",
            " [2 0 1 1]\n",
            " [0 1 1 4]\n",
            " [1 1 4 0]\n",
            " [1 4 0 3]\n",
            " [4 0 3 1]\n",
            " [0 3 1 1]\n",
            " [3 1 1 0]\n",
            " [1 1 0 5]\n",
            " [1 0 5 0]\n",
            " [0 5 0 2]\n",
            " [5 0 2 1]\n",
            " [0 2 1 2]\n",
            " [2 1 2 1]\n",
            " [1 2 1 0]\n",
            " [2 1 0 0]\n",
            " [1 0 0 1]\n",
            " [0 0 1 4]\n",
            " [0 1 4 3]\n",
            " [1 4 3 0]\n",
            " [4 3 0 1]\n",
            " [3 0 1 3]\n",
            " [0 1 3 2]\n",
            " [1 3 2 1]\n",
            " [3 2 1 1]\n",
            " [2 1 1 2]\n",
            " [1 1 2 5]\n",
            " [1 2 5 1]\n",
            " [2 5 1 1]\n",
            " [5 1 1 2]\n",
            " [1 1 2 2]]\n",
            "y =  [2 1 2 1 2 2 1 1 0 2 1 2 2 0 0 2 0 1 1 4 0 3 1 1 0 5 0 2 1 2 1 0 0 1 4 3 0\n",
            " 1 3 2 1 1 2 5 1 1 2 2 2]\n",
            "X.shape = (49, 4), y.shape = (49,)\n",
            "After reshape, X_train.shape = (39, 4, 1), X_test.shape = (9, 4, 1), X_predict.shape = (1, 4, 1), y_train.shape = (39,), y_test.shape = (9,), y_predict.shape = (1,)\n",
            "X_test =  [[[3]\n",
            "  [0]\n",
            "  [1]\n",
            "  [3]]\n",
            "\n",
            " [[0]\n",
            "  [1]\n",
            "  [3]\n",
            "  [2]]\n",
            "\n",
            " [[1]\n",
            "  [3]\n",
            "  [2]\n",
            "  [1]]\n",
            "\n",
            " [[3]\n",
            "  [2]\n",
            "  [1]\n",
            "  [1]]\n",
            "\n",
            " [[2]\n",
            "  [1]\n",
            "  [1]\n",
            "  [2]]\n",
            "\n",
            " [[1]\n",
            "  [1]\n",
            "  [2]\n",
            "  [5]]\n",
            "\n",
            " [[1]\n",
            "  [2]\n",
            "  [5]\n",
            "  [1]]\n",
            "\n",
            " [[2]\n",
            "  [5]\n",
            "  [1]\n",
            "  [1]]\n",
            "\n",
            " [[5]\n",
            "  [1]\n",
            "  [1]\n",
            "  [2]]]\n",
            "X_predict =  [[[1]\n",
            "  [1]\n",
            "  [2]\n",
            "  [2]]]\n",
            "input_shape =  (4, 1)\n"
          ]
        }
      ]
    },
    {
      "cell_type": "code",
      "source": [
        "# define model\n",
        "model = Sequential()\n",
        "# model.add(LSTM(100, activation='relu', kernel_initializer='he_normal', input_shape=input_shape))\n",
        "model.add(LSTM(64, kernel_initializer='he_normal', input_shape=input_shape))\n",
        "model.add(Dense(32, activation='relu', kernel_initializer='he_normal'))\n",
        "model.add(Dense(1))\n",
        "model.summary()"
      ],
      "metadata": {
        "id": "1JtkkT61Tn8C",
        "colab": {
          "base_uri": "https://localhost:8080/"
        },
        "outputId": "266e70df-9d7f-4ef4-b09c-24922c2cb0c0"
      },
      "execution_count": null,
      "outputs": [
        {
          "output_type": "stream",
          "name": "stdout",
          "text": [
            "Model: \"sequential_2\"\n",
            "_________________________________________________________________\n",
            " Layer (type)                Output Shape              Param #   \n",
            "=================================================================\n",
            " lstm_2 (LSTM)               (None, 64)                16896     \n",
            "                                                                 \n",
            " dense_4 (Dense)             (None, 32)                2080      \n",
            "                                                                 \n",
            " dense_5 (Dense)             (None, 1)                 33        \n",
            "                                                                 \n",
            "=================================================================\n",
            "Total params: 19,009\n",
            "Trainable params: 19,009\n",
            "Non-trainable params: 0\n",
            "_________________________________________________________________\n"
          ]
        }
      ]
    },
    {
      "cell_type": "code",
      "source": [
        "# compile the model\n",
        "model.compile(optimizer='adam', loss='mse', metrics=['mae'])\n",
        "# fit the model\n",
        "model.fit(X_train, y_train, epochs=10, batch_size=32, verbose=2, validation_data=(X_test, y_test))"
      ],
      "metadata": {
        "colab": {
          "base_uri": "https://localhost:8080/"
        },
        "id": "nZ4OVN-wTtml",
        "outputId": "f944d7f8-67df-4d1f-ee52-9fcdef25381f"
      },
      "execution_count": null,
      "outputs": [
        {
          "output_type": "stream",
          "name": "stdout",
          "text": [
            "Epoch 1/10\n",
            "2/2 - 3s - loss: 2.4970 - mae: 1.1884 - val_loss: 2.6576 - val_mae: 1.1088 - 3s/epoch - 1s/step\n",
            "Epoch 2/10\n",
            "2/2 - 0s - loss: 2.1390 - mae: 1.0936 - val_loss: 2.3141 - val_mae: 0.9419 - 53ms/epoch - 27ms/step\n",
            "Epoch 3/10\n",
            "2/2 - 0s - loss: 1.8536 - mae: 0.9934 - val_loss: 2.0311 - val_mae: 0.8603 - 42ms/epoch - 21ms/step\n",
            "Epoch 4/10\n",
            "2/2 - 0s - loss: 1.6918 - mae: 0.9558 - val_loss: 1.8088 - val_mae: 0.8245 - 32ms/epoch - 16ms/step\n",
            "Epoch 5/10\n",
            "2/2 - 0s - loss: 1.5841 - mae: 0.9587 - val_loss: 1.6543 - val_mae: 0.8076 - 35ms/epoch - 17ms/step\n",
            "Epoch 6/10\n",
            "2/2 - 0s - loss: 1.5309 - mae: 0.9718 - val_loss: 1.5546 - val_mae: 0.7896 - 32ms/epoch - 16ms/step\n",
            "Epoch 7/10\n",
            "2/2 - 0s - loss: 1.5327 - mae: 0.9878 - val_loss: 1.4989 - val_mae: 0.7760 - 31ms/epoch - 16ms/step\n",
            "Epoch 8/10\n",
            "2/2 - 0s - loss: 1.5221 - mae: 0.9885 - val_loss: 1.4755 - val_mae: 0.7679 - 36ms/epoch - 18ms/step\n",
            "Epoch 9/10\n",
            "2/2 - 0s - loss: 1.5290 - mae: 0.9930 - val_loss: 1.4744 - val_mae: 0.7655 - 38ms/epoch - 19ms/step\n",
            "Epoch 10/10\n",
            "2/2 - 0s - loss: 1.5185 - mae: 0.9912 - val_loss: 1.4905 - val_mae: 0.7677 - 38ms/epoch - 19ms/step\n"
          ]
        },
        {
          "output_type": "execute_result",
          "data": {
            "text/plain": [
              "<keras.callbacks.History at 0x7f7b65dd4dd0>"
            ]
          },
          "metadata": {},
          "execution_count": 13
        }
      ]
    },
    {
      "cell_type": "code",
      "source": [
        "# evaluate the model\n",
        "mse, mae = model.evaluate(X_test, y_test, verbose=0)\n",
        "print('MSE: %.3f, RMSE: %.3f, MAE: %.3f' % (mse, sqrt(mse), mae))"
      ],
      "metadata": {
        "colab": {
          "base_uri": "https://localhost:8080/"
        },
        "id": "OUw7kjGvT9fx",
        "outputId": "b82bd099-3c9c-4df3-e5c8-6ed135c638c8"
      },
      "execution_count": null,
      "outputs": [
        {
          "output_type": "stream",
          "name": "stdout",
          "text": [
            "MSE: 1.490, RMSE: 1.221, MAE: 0.768\n"
          ]
        }
      ]
    },
    {
      "cell_type": "code",
      "source": [
        "# make a prediction\n",
        "## row = asarray([5, 1, 1, 2, 2]).reshape((1, n_steps, 1))\n",
        "## print(\"row = %s\" %(row))\n",
        "## yhat = model.predict(row)\n",
        "## print('Predicted: %.3f' % (yhat))\n",
        "print(\"X_predict = %s\" %(X_predict))\n",
        "print(\"X_predict.shape = \", X_predict.shape)\n",
        "# print(\"After reshape, X_train.shape = %s, X_test.shape = %s, X_predict.shape = %s, y_train.shape = %s, y_test.shape = %s, y_predict.shape = %s\" %(X_train.shape, X_test.shape, X_predict.shape, y_train.shape, y_test.shape, y_predict.shape))\n",
        "yhat = model.predict(X_predict)\n",
        "print('Predicted: %.3f' % (yhat))"
      ],
      "metadata": {
        "colab": {
          "base_uri": "https://localhost:8080/"
        },
        "id": "cGeHZkHoUFBk",
        "outputId": "8017b41b-2e3b-433e-ea67-652bcfbfa109"
      },
      "execution_count": null,
      "outputs": [
        {
          "output_type": "stream",
          "name": "stdout",
          "text": [
            "X_predict = [[[1]\n",
            "  [1]\n",
            "  [2]\n",
            "  [2]]]\n",
            "X_predict.shape =  (1, 4, 1)\n",
            "1/1 [==============================] - 0s 463ms/step\n",
            "Predicted: 1.545\n"
          ]
        }
      ]
    },
    {
      "cell_type": "code",
      "source": [
        "# save the model\n",
        "model.save(\"RNN_TC8_Annually_Local_Model\")\n",
        "print('Model saved as RNN_TC8_Annually_Local_Model')\n",
        "! tar czf RNN_TC8_Annually_Local_Model.tar.gz RNN_TC8_Annually_Local_Model"
      ],
      "metadata": {
        "colab": {
          "base_uri": "https://localhost:8080/"
        },
        "id": "_XwfDOnOKxeM",
        "outputId": "46b48543-132e-46f5-ef7b-e5722e43d6a4"
      },
      "execution_count": null,
      "outputs": [
        {
          "output_type": "stream",
          "name": "stderr",
          "text": [
            "WARNING:absl:Found untraced functions such as lstm_cell_2_layer_call_fn, lstm_cell_2_layer_call_and_return_conditional_losses while saving (showing 2 of 2). These functions will not be directly callable after loading.\n"
          ]
        },
        {
          "output_type": "stream",
          "name": "stdout",
          "text": [
            "Model saved as RNN_TC8_Annually_Local_Model\n"
          ]
        }
      ]
    },
    {
      "cell_type": "code",
      "source": [
        "# Connect to remote staging repo at Github\n",
        "! git clone https://github.com/snpsuen/Deep_Learning_JupyterLab.git; \\\n",
        "cd Deep_Learning_JupyterLab; \\\n",
        "git remote remove origin; \\\n",
        "git remote add origin https://my_token-xxxxxxxxxx@github.com/snpsuen/Deep_Learning_JupyterLab.git"
      ],
      "metadata": {
        "colab": {
          "base_uri": "https://localhost:8080/"
        },
        "id": "wB5ByCP7Vvr4",
        "outputId": "2bdb1f18-36e0-4a54-bc2f-b69cd88364a1"
      },
      "execution_count": null,
      "outputs": [
        {
          "output_type": "stream",
          "name": "stdout",
          "text": [
            "Cloning into 'Deep_Learning_JupyterLab'...\n",
            "remote: Enumerating objects: 49, done.\u001b[K\n",
            "remote: Counting objects: 100% (49/49), done.\u001b[K\n",
            "remote: Compressing objects: 100% (42/42), done.\u001b[K\n",
            "remote: Total 49 (delta 9), reused 6 (delta 1), pack-reused 0\u001b[K\n",
            "Unpacking objects: 100% (49/49), done.\n"
          ]
        }
      ]
    },
    {
      "cell_type": "code",
      "source": [
        "# Upload the model to the remote repo\n",
        "! cp RNN_TC8_Annually_Local_Model.tar.gz Deep_Learning_JupyterLab/model; \\\n",
        "cd Deep_Learning_JupyterLab; \\\n",
        "git add . ; \\\n",
        "git config --global user.email \"snpsuen@gmail.com\"; git commit -m \"Upload RNN TC8 model archive\"; \\\n",
        "git push -u origin main; git remote remove origin"
      ],
      "metadata": {
        "colab": {
          "base_uri": "https://localhost:8080/"
        },
        "id": "hKhZLskrA06Q",
        "outputId": "4fe0e936-d551-4168-969c-527aa5ae7d26"
      },
      "execution_count": null,
      "outputs": [
        {
          "output_type": "stream",
          "name": "stdout",
          "text": [
            "[main 4919778] Upload RNN TC8 model archive\n",
            " 1 file changed, 0 insertions(+), 0 deletions(-)\n",
            " rewrite model/RNN_TC8_Annually_Local_Model.tar.gz (96%)\n",
            "Counting objects: 4, done.\n",
            "Delta compression using up to 2 threads.\n",
            "Compressing objects: 100% (4/4), done.\n",
            "Writing objects: 100% (4/4), 282.25 KiB | 21.71 MiB/s, done.\n",
            "Total 4 (delta 0), reused 0 (delta 0)\n",
            "To https://github.com/snpsuen/Deep_Learning_JupyterLab.git\n",
            "   2df5162..4919778  main -> main\n",
            "Branch 'main' set up to track remote branch 'main' from 'origin'.\n"
          ]
        }
      ]
    },
    {
      "cell_type": "code",
      "source": [
        "# Connect to the local runtime \n",
        "# fetch the model zip archive from the Github repo and unpack it under a local folder named model\n",
        "! cd model; \\\n",
        "wget https://github.com/snpsuen/Deep_Learning_JupyterLab/raw/main/model/RNN_TC8_Annually_Local_Model.tar.gz; \\\n",
        "tar xzf RNN_TC8_Annually_Local_Model.tar.gz"
      ],
      "metadata": {
        "colab": {
          "base_uri": "https://localhost:8080/"
        },
        "id": "tzURr3KEtO76",
        "outputId": "a3456e3e-b19a-4f99-c9a5-84117c9b982f"
      },
      "execution_count": null,
      "outputs": [
        {
          "output_type": "stream",
          "name": "stdout",
          "text": [
            "--2022-10-13 06:12:44--  https://github.com/snpsuen/Deep_Learning_JupyterLab/raw/main/model/RNN_TC8_Annually_Local_Model.tar.gz\n",
            "Resolving github.com (github.com)... 20.205.243.166\n",
            "Connecting to github.com (github.com)|20.205.243.166|:443... connected.\n",
            "HTTP request sent, awaiting response... 302 Found\n",
            "Location: https://raw.githubusercontent.com/snpsuen/Deep_Learning_JupyterLab/main/model/RNN_TC8_Annually_Local_Model.tar.gz [following]\n",
            "--2022-10-13 06:12:45--  https://raw.githubusercontent.com/snpsuen/Deep_Learning_JupyterLab/main/model/RNN_TC8_Annually_Local_Model.tar.gz\n",
            "Resolving raw.githubusercontent.com (raw.githubusercontent.com)... 185.199.111.133, 185.199.110.133, 185.199.108.133, ...\n",
            "Connecting to raw.githubusercontent.com (raw.githubusercontent.com)|185.199.111.133|:443... connected.\n",
            "HTTP request sent, awaiting response... 200 OK\n",
            "Length: 290992 (284K) [application/octet-stream]\n",
            "Saving to: ‘RNN_TC8_Annually_Local_Model.tar.gz’\n",
            "\n",
            "RNN_TC8_Annually_Lo 100%[===================>] 284.17K  --.-KB/s    in 0.04s   \n",
            "\n",
            "2022-10-13 06:12:46 (7.44 MB/s) - ‘RNN_TC8_Annually_Local_Model.tar.gz’ saved [290992/290992]\n",
            "\n"
          ]
        }
      ]
    }
  ]
}